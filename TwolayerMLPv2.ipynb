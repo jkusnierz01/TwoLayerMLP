{
  "nbformat": 4,
  "nbformat_minor": 0,
  "metadata": {
    "colab": {
      "provenance": []
    },
    "kernelspec": {
      "name": "python3",
      "display_name": "Python 3"
    },
    "language_info": {
      "name": "python"
    }
  },
  "cells": [
    {
      "cell_type": "code",
      "execution_count": 82,
      "metadata": {
        "id": "r-q6eKcTyk9t"
      },
      "outputs": [],
      "source": [
        "import numpy as np\n",
        "import random\n",
        "import matplotlib.pyplot as plt"
      ]
    },
    {
      "cell_type": "code",
      "source": [
        "def relu(x):\n",
        "    return np.maximum(0, x)\n",
        "\n",
        "def relu_derivative(x):\n",
        "    return (x > 0).astype(x.dtype)"
      ],
      "metadata": {
        "id": "3e-0cFMUVoYR"
      },
      "execution_count": 138,
      "outputs": []
    },
    {
      "cell_type": "code",
      "source": [
        "def sigmoid(x):\n",
        "  return 1/(1+np.exp(-x))\n",
        "\n",
        "def sigmoid_derivative(x):\n",
        "  return x * (1 - x)"
      ],
      "metadata": {
        "id": "UiP2r_BbypOE"
      },
      "execution_count": 84,
      "outputs": []
    },
    {
      "cell_type": "code",
      "source": [
        "def mse(true, predicted):\n",
        "  return np.mean((true - predicted)**2)"
      ],
      "metadata": {
        "id": "6nfPjFXMyzXF"
      },
      "execution_count": 85,
      "outputs": []
    },
    {
      "cell_type": "code",
      "source": [
        "def init2(S,K1,K2):\n",
        "  W1 = np.array([[np.around(random.uniform(-0.1,0.1),decimals = 5) for elem in range(K1)] for x in range(S)])\n",
        "  W2 = np.array([[np.around(random.uniform(-0.1,0.1),decimals = 5) for elem in range(K2)] for x in range(K1)])\n",
        "  b1 = np.array([np.around(random.uniform(-1,1),decimals=5) for elem in range(K1)])\n",
        "  b2 = np.array([np.around(random.uniform(-1,1),decimals = 5) for elem in range(K2)])\n",
        "  return W1,W2,b1,b2"
      ],
      "metadata": {
        "id": "jvn24mxmy8we"
      },
      "execution_count": 130,
      "outputs": []
    },
    {
      "cell_type": "code",
      "source": [
        "def forward(W1,W2,b1,b2,X):\n",
        "  z1 = np.dot(X,W1) + b1\n",
        "  p1 = sigmoid(z1)\n",
        "  z2 = np.dot(p1,W2) + b2\n",
        "  p2 = sigmoid(z2)\n",
        "  return z1,p1,z2,p2"
      ],
      "metadata": {
        "id": "cjiE5Fkgz7D5"
      },
      "execution_count": 141,
      "outputs": []
    },
    {
      "cell_type": "code",
      "source": [
        "def backpropagation(z1,p1,z2,p2,W2,y,X):\n",
        "  error = p2 - y\n",
        "  delta2 = sigmoid_derivative(p2) * error\n",
        "  layer2_gradient = np.dot(p1.T, delta2)\n",
        "  delta1 = np.dot(delta2,W2.T) * sigmoid_derivative(p1)\n",
        "  layer1_gradient = np.dot(X.T,delta1)\n",
        "  d_b2 = np.sum(delta2, axis=0,)\n",
        "  d_b1 = np.sum(delta1, axis=0)\n",
        "  return layer1_gradient, layer2_gradient, d_b1, d_b2\n"
      ],
      "metadata": {
        "id": "XCOgn2yt7j4h"
      },
      "execution_count": 140,
      "outputs": []
    },
    {
      "cell_type": "code",
      "source": [
        "def ucz2(W1przed:np.array, W2przed:np.array,b1,b2,P, T, n):\n",
        "  learning_rate = 0.2\n",
        "  MSE_ERROR = []\n",
        "  momentum = 0.9\n",
        "  prev_v_W1, prev_v_W2, prev_v_b1, prev_v_b2 = np.zeros_like(W1), np.zeros_like(W2), np.zeros_like(b1), np.zeros_like(b2)\n",
        "  for iter in range(n):\n",
        "    z1,p1,z2,p2 = forward(W1przed,W2przed,b1,b2,P)\n",
        "    MSE_ERROR.append(mse(T,p2))\n",
        "    grad1,grad2,gradb1,gradb2 = backpropagation(z1,p1,z2,p2,W2przed,T,P)\n",
        "    v_W1 = momentum * prev_v_W1 + learning_rate * grad1\n",
        "    v_W2 = momentum * prev_v_W2 + learning_rate * grad2\n",
        "    v_b1 = momentum * prev_v_b1 + learning_rate * gradb1\n",
        "    v_b2 = momentum * prev_v_b2 + learning_rate * gradb2\n",
        "    W1przed -= v_W1\n",
        "    W2przed -= v_W2\n",
        "    b1 -= v_b1\n",
        "    b2 -= v_b2\n",
        "    prev_v_W1, prev_v_W2, prev_v_b1, prev_v_b2 = v_W1,v_W2,v_b1,v_b2\n",
        "  return MSE_ERROR\n",
        "\n",
        "\n"
      ],
      "metadata": {
        "id": "AiNoW5GgLGiZ"
      },
      "execution_count": 164,
      "outputs": []
    },
    {
      "cell_type": "code",
      "source": [
        "def ucz2_batch(W1przed:np.array, W2przed:np.array,b1,b2,P, T, n, batch_size = 10):\n",
        "  learning_rate = 0.001\n",
        "  MSE_ERROR = []\n",
        "  momentum = 0.8\n",
        "  prev_v_W1, prev_v_W2, prev_v_b1, prev_v_b2 = np.zeros_like(W1), np.zeros_like(W2), np.zeros_like(b1), np.zeros_like(b2)\n",
        "  for iter in range(n):\n",
        "    indexes = [random.randint(0,len(P) - 1 ) for elem in range(batch_size)]\n",
        "    batch_P = np.array([P[index] for index in indexes])\n",
        "    batch_T = np.array([T[index] for index in indexes])\n",
        "    z1,p1,z2,p2 = forward(W1przed,W2przed,b1,b2,batch_P)\n",
        "    MSE_ERROR.append(mse(batch_T,p2))\n",
        "    grad1,grad2,gradb1,gradb2 = backpropagation(z1,p1,z2,p2,W2przed,batch_T,batch_P)\n",
        "    v_W1 = momentum * prev_v_W1 + learning_rate * grad1\n",
        "    v_W2 = momentum * prev_v_W2 + learning_rate * grad2\n",
        "    v_b1 = momentum * prev_v_b1 + learning_rate * gradb1\n",
        "    v_b2 = momentum * prev_v_b2 + learning_rate * gradb2\n",
        "    W1przed -= v_W1\n",
        "    W2przed -= v_W2\n",
        "    b1 -= v_b1\n",
        "    b2 -= v_b2\n",
        "    prev_v_W1, prev_v_W2, prev_v_b1, prev_v_b2 = v_W1,v_W2,v_b1,v_b2\n",
        "  return MSE_ERROR"
      ],
      "metadata": {
        "id": "P-RpJHJ0DtJ_"
      },
      "execution_count": 165,
      "outputs": []
    },
    {
      "cell_type": "code",
      "source": [
        "import zipfile\n",
        "\n",
        "\n",
        "with zipfile.ZipFile('./titanic.zip', 'r') as zipf:\n",
        "  zipf.extractall('./')\n"
      ],
      "metadata": {
        "id": "kEI3XI0mQQ3u"
      },
      "execution_count": 166,
      "outputs": []
    },
    {
      "cell_type": "code",
      "source": [
        "import pandas as pd\n",
        "X_train = pd.read_csv('./trainX.csv')\n",
        "Y_train = pd.read_csv('./trainY.csv')\n",
        "X_train = X_train.iloc[:,1:]\n",
        "Y_train = Y_train.iloc[:,1:]\n",
        "X = np.array(X_train.values.tolist())\n",
        "Y = np.array(Y_train.values.tolist())\n",
        "X_val = pd.read_csv('./valX.csv')\n",
        "Y_val = pd.read_csv('./valY.csv')\n",
        "X_val = X_val.iloc[:,1:]\n",
        "Y_val = Y_val.iloc[:,1:]\n",
        "X_val = np.array(X_val.values.tolist())\n",
        "Y_val = np.array(Y_val.values.tolist())"
      ],
      "metadata": {
        "id": "bK3GMb4bQsjH"
      },
      "execution_count": 167,
      "outputs": []
    },
    {
      "cell_type": "code",
      "source": [
        "def validate(W1,W2,b1,b2,X_val,Y_val):\n",
        "  correct = 0\n",
        "  for example in range(len(X_val)):\n",
        "    z1,p1,z2,p2 = forward(W1,W2,b1,b2,X[example])\n",
        "    if p2 > 0.5:\n",
        "      p2 = 1\n",
        "    else:\n",
        "      p2 = 0\n",
        "    if p2 == Y_val[example]:\n",
        "      correct += 1\n",
        "  return correct/len(X_val)"
      ],
      "metadata": {
        "id": "qH7FFaC4W7R4"
      },
      "execution_count": 168,
      "outputs": []
    },
    {
      "cell_type": "code",
      "source": [
        "if __name__ == \"__main__\":\n",
        "  W1,W2,b1,b2 = init2(2,2,1)\n",
        "  X = np.array([[0, 0], [0, 1], [1, 0], [1, 1]])  # XOR inputs\n",
        "  y = np.array([[0], [1], [1], [0]])  # XOR outputs\n",
        "  epochs = 5000\n",
        "  mse_err = ucz2(W1,W2,b1,b2,X,y,epochs)\n",
        "  # accuracy = validate(W1,W2,b1,b2,X_val,Y_val)\n",
        "  x = np.linspace(0,epochs,epochs)\n",
        "  plt.plot(x,mse_err)\n",
        "  # print(accuracy)"
      ],
      "metadata": {
        "colab": {
          "base_uri": "https://localhost:8080/",
          "height": 430
        },
        "id": "YO2eZcw11uQG",
        "outputId": "da0ba6ac-21da-4d5e-81e9-92a8dee603b6"
      },
      "execution_count": 169,
      "outputs": [
        {
          "output_type": "display_data",
          "data": {
            "text/plain": [
              "<Figure size 640x480 with 1 Axes>"
            ],
            "image/png": "[encoded data removed]"
          },
          "metadata": {}
        }
      ]
    },
    {
      "cell_type": "code",
      "source": [
        "accuracy"
      ],
      "metadata": {
        "id": "H4Sui39c14zX",
        "colab": {
          "base_uri": "https://localhost:8080/"
        },
        "outputId": "04442f53-fc83-40ce-a2c0-d86bc54d0c5f"
      },
      "execution_count": 103,
      "outputs": [
        {
          "output_type": "execute_result",
          "data": {
            "text/plain": [
              "0.5393258426966292"
            ]
          },
          "metadata": {},
          "execution_count": 103
        }
      ]
    },
    {
      "cell_type": "code",
      "source": [],
      "metadata": {
        "id": "RZM_XDxsYD6Y"
      },
      "execution_count": null,
      "outputs": []
    }
  ]
}