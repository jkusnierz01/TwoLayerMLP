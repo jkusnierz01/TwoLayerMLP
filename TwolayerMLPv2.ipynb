{
  "cells": [
    {
      "cell_type": "code",
      "execution_count": 2,
      "metadata": {
        "id": "r-q6eKcTyk9t"
      },
      "outputs": [],
      "source": [
        "import numpy as np\n",
        "import random\n",
        "import matplotlib.pyplot as plt\n",
        "import pandas as pd"
      ]
    },
    {
      "cell_type": "code",
      "execution_count": 5,
      "metadata": {
        "id": "kEI3XI0mQQ3u"
      },
      "outputs": [],
      "source": [
        "import zipfile\n",
        "with zipfile.ZipFile('./titanic.zip', 'r') as zipf:\n",
        "  zipf.extractall('./')"
      ]
    },
    {
      "cell_type": "code",
      "execution_count": 6,
      "metadata": {
        "id": "3e-0cFMUVoYR"
      },
      "outputs": [],
      "source": [
        "def relu(x):\n",
        "    return np.maximum(0, x)\n",
        "\n",
        "def relu_derivative(x):\n",
        "    return (x > 0).astype(x.dtype)"
      ]
    },
    {
      "cell_type": "code",
      "execution_count": 7,
      "metadata": {
        "id": "UiP2r_BbypOE"
      },
      "outputs": [],
      "source": [
        "def sigmoid(x):\n",
        "  return 1/(1+np.exp(-x))\n",
        "\n",
        "def sigmoid_derivative(x):\n",
        "  return x * (1 - x)"
      ]
    },
    {
      "cell_type": "code",
      "execution_count": 8,
      "metadata": {
        "id": "6nfPjFXMyzXF"
      },
      "outputs": [],
      "source": [
        "def mse(true, predicted):\n",
        "  return np.mean((true - predicted)**2)"
      ]
    },
    {
      "cell_type": "code",
      "execution_count": 9,
      "metadata": {
        "id": "jvn24mxmy8we"
      },
      "outputs": [],
      "source": [
        "def init2(S,K1,K2):\n",
        "  W1 = np.array([[np.around(random.uniform(-0.1,0.1),decimals = 5) for elem in range(K1)] for x in range(S)])\n",
        "  W2 = np.array([[np.around(random.uniform(-0.1,0.1),decimals = 5) for elem in range(K2)] for x in range(K1)])\n",
        "  b1 = np.array([np.around(random.uniform(-1,1),decimals=5) for elem in range(K1)])\n",
        "  b2 = np.array([np.around(random.uniform(-1,1),decimals = 5) for elem in range(K2)])\n",
        "  return W1,W2,b1,b2"
      ]
    },
    {
      "cell_type": "code",
      "execution_count": 10,
      "metadata": {
        "id": "cjiE5Fkgz7D5"
      },
      "outputs": [],
      "source": [
        "def forward(W1,W2,b1,b2,X):\n",
        "  z1 = np.dot(X,W1) + b1\n",
        "  p1 = sigmoid(z1)\n",
        "  z2 = np.dot(p1,W2) + b2\n",
        "  p2 = sigmoid(z2)\n",
        "  return z1,p1,z2,p2"
      ]
    },
    {
      "cell_type": "code",
      "execution_count": 11,
      "metadata": {
        "id": "XCOgn2yt7j4h"
      },
      "outputs": [],
      "source": [
        "def backpropagation(z1,p1,z2,p2,W2,y,X):\n",
        "  error = p2 - y\n",
        "  delta2 = sigmoid_derivative(p2) * error\n",
        "  layer2_gradient = np.dot(p1.T, delta2)\n",
        "  delta1 = np.dot(delta2,W2.T) * sigmoid_derivative(p1)\n",
        "  layer1_gradient = np.dot(X.T,delta1)\n",
        "  d_b2 = np.sum(delta2, axis=0,)\n",
        "  d_b1 = np.sum(delta1, axis=0)\n",
        "  return layer1_gradient, layer2_gradient, d_b1, d_b2\n"
      ]
    },
    {
      "cell_type": "code",
      "execution_count": 38,
      "metadata": {
        "id": "qH7FFaC4W7R4"
      },
      "outputs": [],
      "source": [
        "def validate(W1,W2,b1,b2,X_val,Y_val):\n",
        "  correct = 0\n",
        "  for example in range(len(X_val)):\n",
        "    z1,p1,z2,p2 = forward(W1,W2,b1,b2,X_val[example])\n",
        "    if p2 > 0.5:\n",
        "      p2 = 1\n",
        "    else:\n",
        "      p2 = 0\n",
        "    if p2 == Y_val[example]:\n",
        "      correct += 1\n",
        "  return correct/len(X_val)"
      ]
    },
    {
      "cell_type": "code",
      "execution_count": 65,
      "metadata": {
        "id": "AiNoW5GgLGiZ"
      },
      "outputs": [],
      "source": [
        "def ucz2(W1przed:np.array, W2przed:np.array,b1,b2,P, T, n):\n",
        "  learning_rate = 0.1\n",
        "  MSE_ERROR = []\n",
        "  momentum = 0.9\n",
        "  prev_v_W1, prev_v_W2, prev_v_b1, prev_v_b2 = np.zeros_like(W1przed), np.zeros_like(W2przed), np.zeros_like(b1), np.zeros_like(b2)\n",
        "  for iter in range(n):\n",
        "    z1,p1,z2,p2 = forward(W1przed,W2przed,b1,b2,P)\n",
        "    MSE_ERROR.append(mse(T,p2))\n",
        "    grad1,grad2,gradb1,gradb2 = backpropagation(z1,p1,z2,p2,W2przed,T,P)\n",
        "    v_W1 = momentum * prev_v_W1 - learning_rate * grad1\n",
        "    v_W2 = momentum * prev_v_W2 - learning_rate * grad2\n",
        "    v_b1 = momentum * prev_v_b1 - learning_rate * gradb1\n",
        "    v_b2 = momentum * prev_v_b2 - learning_rate * gradb2\n",
        "    W1przed += v_W1\n",
        "    W2przed += v_W2\n",
        "    b1 += v_b1\n",
        "    b2 += v_b2\n",
        "    prev_v_W1, prev_v_W2, prev_v_b1, prev_v_b2 = v_W1,v_W2,v_b1,v_b2\n",
        "  return MSE_ERROR\n",
        "\n",
        "\n"
      ]
    },
    {
      "cell_type": "code",
      "execution_count": 112,
      "metadata": {
        "id": "P-RpJHJ0DtJ_"
      },
      "outputs": [],
      "source": [
        "def ucz2_batch(W1przed:np.array, W2przed:np.array,b1,b2,P, T, n, batch_size = 10):\n",
        "  learning_rate = 0.0001\n",
        "  MSE_ERROR = []\n",
        "  momentum = 0.9\n",
        "  prev_v_W1, prev_v_W2, prev_v_b1, prev_v_b2 = np.zeros_like(W1przed), np.zeros_like(W2przed), np.zeros_like(b1), np.zeros_like(b2)\n",
        "  for iter in range(n):\n",
        "    indexes = [random.randint(0,len(P) - 1 ) for elem in range(batch_size)]\n",
        "    batch_P = np.array([P[index] for index in indexes])\n",
        "    batch_T = np.array([T[index] for index in indexes])\n",
        "    z1,p1,z2,p2 = forward(W1przed,W2przed,b1,b2,batch_P)\n",
        "    MSE_ERROR.append(mse(batch_T,p2))\n",
        "    grad1,grad2,gradb1,gradb2 = backpropagation(z1,p1,z2,p2,W2przed,batch_T,batch_P)\n",
        "    v_W1 = momentum * prev_v_W1 - learning_rate * grad1\n",
        "    v_W2 = momentum * prev_v_W2 - learning_rate * grad2\n",
        "    v_b1 = momentum * prev_v_b1 - learning_rate * gradb1\n",
        "    v_b2 = momentum * prev_v_b2 - learning_rate * gradb2\n",
        "    W1przed += v_W1\n",
        "    W2przed += v_W2\n",
        "    b1 += v_b1\n",
        "    b2 += v_b2\n",
        "    prev_v_W1, prev_v_W2, prev_v_b1, prev_v_b2 = v_W1,v_W2,v_b1,v_b2\n",
        "  return MSE_ERROR"
      ]
    },
    {
      "cell_type": "code",
      "execution_count": 31,
      "metadata": {
        "id": "WlU1W4qXviy7"
      },
      "outputs": [],
      "source": [
        "def ucz2_no_momentum(W1przed:np.array, W2przed:np.array,b1,b2,P, T, n):\n",
        "  learning_rate = 0.4\n",
        "  MSE_ERROR = []\n",
        "  momentum = 0.9\n",
        "  for iter in range(n):\n",
        "    z1,p1,z2,p2 = forward(W1przed,W2przed,b1,b2,P)\n",
        "    MSE_ERROR.append(mse(T,p2))\n",
        "    grad1,grad2,gradb1,gradb2 = backpropagation(z1,p1,z2,p2,W2przed,T,P)\n",
        "    W1przed -= learning_rate * grad1\n",
        "    W2przed -= learning_rate * grad2\n",
        "    b1 -= learning_rate * gradb1\n",
        "    b2 -= learning_rate * gradb2\n",
        "  return MSE_ERROR"
      ]
    },
    {
      "cell_type": "code",
      "execution_count": 15,
      "metadata": {
        "id": "oo7AZIOJsy3W"
      },
      "outputs": [],
      "source": [
        "X = np.array([[0, 0], [0, 1], [1, 0], [1, 1]])  # XOR inputs\n",
        "y = np.array([[0], [1], [1], [0]])\n"
      ]
    },
    {
      "cell_type": "markdown",
      "metadata": {
        "id": "xfZN9z5gsjT3"
      },
      "source": [
        "Mini-batch"
      ]
    },
    {
      "cell_type": "code",
      "execution_count": 22,
      "metadata": {
        "colab": {
          "base_uri": "https://localhost:8080/",
          "height": 447
        },
        "id": "YO2eZcw11uQG",
        "outputId": "ecc3e865-4d77-45fb-a504-f1cd092f026f"
      },
      "outputs": [
        {
          "data": {
            "text/plain": [
              "Text(0, 0.5, 'MSE Loss Value')"
            ]
          },
          "execution_count": 22,
          "metadata": {},
          "output_type": "execute_result"
        },
        {
          "data": {
            "image/png": "[encoded data removed]",
            "text/plain": [
              "<Figure size 640x480 with 1 Axes>"
            ]
          },
          "metadata": {},
          "output_type": "display_data"
        }
      ],
      "source": [
        "W1,W2,b1,b2 = init2(2,2,1)\n",
        "epochs = 2000\n",
        "mse_err = ucz2(W1,W2,b1,b2,X,y,epochs)\n",
        "x = np.linspace(0,epochs,epochs)\n",
        "plt.plot(x,mse_err)\n",
        "plt.title(\"Loss Function - MSE\")\n",
        "plt.xlabel(\"NR of Epochs\")\n",
        "plt.ylabel(\"MSE Loss Value\")"
      ]
    },
    {
      "cell_type": "markdown",
      "metadata": {
        "id": "Oq5sRVDNsnOK"
      },
      "source": [
        "Full-batch\n"
      ]
    },
    {
      "cell_type": "code",
      "execution_count": 23,
      "metadata": {
        "colab": {
          "base_uri": "https://localhost:8080/",
          "height": 447
        },
        "id": "cBA21C0Asm7d",
        "outputId": "43e16db1-ba52-4f61-80f8-c6e3236ddcc7"
      },
      "outputs": [
        {
          "data": {
            "text/plain": [
              "[<matplotlib.lines.Line2D at 0x146b74a10>]"
            ]
          },
          "execution_count": 23,
          "metadata": {},
          "output_type": "execute_result"
        },
        {
          "data": {
            "image/png": "[encoded data removed]",
            "text/plain": [
              "<Figure size 640x480 with 1 Axes>"
            ]
          },
          "metadata": {},
          "output_type": "display_data"
        }
      ],
      "source": [
        "W1,W2,b1,b2 = init2(2,2,1)\n",
        "epochs = 10000\n",
        "mse_err = ucz2_no_momentum(W1,W2,b1,b2,X,y,epochs)\n",
        "x = np.linspace(0,epochs,epochs)\n",
        "plt.plot(x,mse_err)"
      ]
    },
    {
      "attachments": {},
      "cell_type": "markdown",
      "metadata": {},
      "source": [
        "Titanic"
      ]
    },
    {
      "cell_type": "code",
      "execution_count": 25,
      "metadata": {
        "id": "bK3GMb4bQsjH"
      },
      "outputs": [],
      "source": [
        "X_train = pd.read_csv('./trainX.csv')\n",
        "Y_train = pd.read_csv('./trainY.csv')\n",
        "X_train = X_train.iloc[:,1:]\n",
        "Y_train = Y_train.iloc[:,1:]\n",
        "X = np.array(X_train.values.tolist())\n",
        "Y = np.array(Y_train.values.tolist())\n",
        "X_val = pd.read_csv('./valX.csv')\n",
        "Y_val = pd.read_csv('./valY.csv')\n",
        "X_val = X_val.iloc[:,1:]\n",
        "Y_val = Y_val.iloc[:,1:]\n",
        "X_val = np.array(X_val.values.tolist())\n",
        "Y_val = np.array(Y_val.values.tolist())\n"
      ]
    },
    {
      "cell_type": "code",
      "execution_count": 70,
      "metadata": {},
      "outputs": [],
      "source": [
        "X_test = pd.read_csv('./testX.csv')\n",
        "Y_test = pd.read_csv('./testY.csv')\n",
        "X_test = X_test.iloc[:,1:]\n",
        "Y_test = Y_test.iloc[:,1:]\n",
        "X_test = np.array(X_test.values.tolist())\n",
        "Y_test = np.array(Y_test.values.tolist())"
      ]
    },
    {
      "cell_type": "code",
      "execution_count": 123,
      "metadata": {
        "colab": {
          "base_uri": "https://localhost:8080/",
          "height": 447
        },
        "id": "RZM_XDxsYD6Y",
        "outputId": "c3927dd7-0929-4889-8a8c-e14f7c8ef0b2"
      },
      "outputs": [
        {
          "data": {
            "text/plain": [
              "Text(0, 0.5, 'MSE Loss Value')"
            ]
          },
          "execution_count": 123,
          "metadata": {},
          "output_type": "execute_result"
        },
        {
          "data": {
            "image/png": "[encoded data removed]",
            "text/plain": [
              "<Figure size 640x480 with 1 Axes>"
            ]
          },
          "metadata": {},
          "output_type": "display_data"
        }
      ],
      "source": [
        "W1,W2,b1,b2 = init2(18,5,1)\n",
        "epochs = 3000\n",
        "mse_err = ucz2_no_momentum(W1,W2,b1,b2,X,Y,epochs)\n",
        "x = np.linspace(0,epochs,epochs)\n",
        "plt.plot(x,mse_err)\n",
        "plt.title(\"Loss Function - MSE\")\n",
        "plt.xlabel(\"NR of Epochs\")\n",
        "plt.ylabel(\"MSE Loss Value\")"
      ]
    },
    {
      "cell_type": "code",
      "execution_count": 124,
      "metadata": {
        "colab": {
          "base_uri": "https://localhost:8080/"
        },
        "id": "5FKdqrATE8xd",
        "outputId": "f0da7892-f29f-4148-fe02-5005f97d8a65"
      },
      "outputs": [
        {
          "data": {
            "text/plain": [
              "0.7415730337078652"
            ]
          },
          "execution_count": 124,
          "metadata": {},
          "output_type": "execute_result"
        }
      ],
      "source": [
        "acc = validate(W1,W2,b1,b2,X_val,Y_val)\n",
        "acc"
      ]
    },
    {
      "cell_type": "code",
      "execution_count": 125,
      "metadata": {
        "colab": {
          "base_uri": "https://localhost:8080/"
        },
        "id": "xtrJHKkWFF6V",
        "outputId": "8cd4d401-8170-42eb-80ad-98ae2d6cc9a2"
      },
      "outputs": [
        {
          "data": {
            "text/plain": [
              "0.7877094972067039"
            ]
          },
          "execution_count": 125,
          "metadata": {},
          "output_type": "execute_result"
        }
      ],
      "source": [
        "test_acc = validate(W1,W2,b1,b2,X_test,Y_test)\n",
        "test_acc"
      ]
    },
    {
      "cell_type": "code",
      "execution_count": null,
      "metadata": {
        "id": "nO7ksvdMFfnJ"
      },
      "outputs": [],
      "source": []
    }
  ],
  "metadata": {
    "colab": {
      "provenance": []
    },
    "kernelspec": {
      "display_name": "Python 3 (ipykernel)",
      "language": "python",
      "name": "python3"
    },
    "language_info": {
      "codemirror_mode": {
        "name": "ipython",
        "version": 3
      },
      "file_extension": ".py",
      "mimetype": "text/x-python",
      "name": "python",
      "nbconvert_exporter": "python",
      "pygments_lexer": "ipython3",
      "version": "3.11.8"
    }
  },
  "nbformat": 4,
  "nbformat_minor": 0
}
